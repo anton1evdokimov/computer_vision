{
 "cells": [
  {
   "cell_type": "code",
   "execution_count": 22,
   "metadata": {},
   "outputs": [
    {
     "data": {
      "text/plain": [
       "1.0"
      ]
     },
     "execution_count": 22,
     "metadata": {},
     "output_type": "execute_result"
    }
   ],
   "source": [
    "from collections import defaultdict\n",
    "d = defaultdict(float)\n",
    "d['s'] += 1\n",
    "d['s']"
   ]
  },
  {
   "cell_type": "code",
   "execution_count": 11,
   "metadata": {},
   "outputs": [
    {
     "name": "stdout",
     "output_type": "stream",
     "text": [
      "1\n"
     ]
    }
   ],
   "source": [
    "import cv2 # для работы с видео\n",
    "from cv2 import CAP_PROP_FRAME_COUNT\n",
    "import math # для математических вычислений\n",
    "import matplotlib.pyplot as plt   \n",
    "%matplotlib inline\n",
    "\n",
    "print(cv2.CAP_PROP_POS_FRAMES)"
   ]
  },
  {
   "cell_type": "code",
   "execution_count": 16,
   "metadata": {},
   "outputs": [
    {
     "name": "stdout",
     "output_type": "stream",
     "text": [
      "cv2.imwrite frame 0\n",
      "cv2.imwrite frame 120\n",
      "cv2.imwrite frame 240\n",
      "cv2.imwrite frame 360\n",
      "cv2.imwrite frame 480\n",
      "cv2.imwrite frame 600\n",
      "cv2.imwrite frame 720\n"
     ]
    }
   ],
   "source": [
    "videoFile = \"finish.mov\"\n",
    "cap = cv2.VideoCapture(videoFile)\n",
    "frameRate = cap.get(cv2.CAP_PROP_FPS)\n",
    "\n",
    "while cap.isOpened():\n",
    "    frameId = cap.get(cv2.CAP_PROP_POS_FRAMES)\n",
    "    ret, frame = cap.read()\n",
    "    if not ret:\n",
    "        break\n",
    "    if frameId % math.floor(frameRate * 4) == 0:\n",
    "        fileName = f\"frame {int(frameId)}\"\n",
    "        # cv2.imwrite(fileName, frame)\n",
    "        print(\"cv2.imwrite\", fileName)\n",
    "\n",
    "cap.release()\n"
   ]
  }
 ],
 "metadata": {
  "kernelspec": {
   "display_name": "Python 3",
   "language": "python",
   "name": "python3"
  },
  "language_info": {
   "codemirror_mode": {
    "name": "ipython",
    "version": 3
   },
   "file_extension": ".py",
   "mimetype": "text/x-python",
   "name": "python",
   "nbconvert_exporter": "python",
   "pygments_lexer": "ipython3",
   "version": "3.9.6"
  }
 },
 "nbformat": 4,
 "nbformat_minor": 2
}
